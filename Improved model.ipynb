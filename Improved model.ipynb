{
 "cells": [
  {
   "cell_type": "code",
   "execution_count": 1,
   "id": "c32e6076",
   "metadata": {},
   "outputs": [],
   "source": [
    "# Importing required libraries\n",
    "import pandas as pd\n",
    "import numpy as np\n",
    "import matplotlib.pyplot as plt\n",
    "import seaborn as sns\n",
    "\n",
    "from sklearn.preprocessing import LabelEncoder\n",
    "from sklearn.preprocessing import StandardScaler\n",
    "from sklearn.model_selection import train_test_split, GridSearchCV\n",
    "from sklearn.linear_model import LogisticRegression\n",
    "from sklearn.tree import DecisionTreeClassifier\n",
    "from sklearn.ensemble import RandomForestClassifier\n",
    "from xgboost import XGBClassifier\n",
    "import xgboost as xgb\n",
    "from lightgbm import LGBMClassifier\n",
    "import lightgbm as lgb\n",
    "from sklearn.ensemble import GradientBoostingClassifier\n",
    "from sklearn.metrics import roc_auc_score, roc_curve, auc\n",
    "from sklearn.metrics import classification_report, confusion_matrix,accuracy_score\n",
    "\n",
    "import warnings\n",
    "warnings.filterwarnings('ignore')\n",
    "warnings.filterwarnings(\"ignore\", category=UserWarning)\n",
    "warnings.filterwarnings(\"ignore\", category=DeprecationWarning)\n",
    "import logging\n",
    "logging.getLogger('lightgbm').setLevel(logging.INFO)\n",
    "logging.getLogger('lightgbm').setLevel(logging.ERROR)"
   ]
  },
  {
   "cell_type": "code",
   "execution_count": 2,
   "id": "bbcf54e9",
   "metadata": {},
   "outputs": [
    {
     "data": {
      "text/plain": [
       "(20758, 18)"
      ]
     },
     "execution_count": 2,
     "metadata": {},
     "output_type": "execute_result"
    }
   ],
   "source": [
    "train_data = pd.read_csv('train.csv')\n",
    "train_data.shape"
   ]
  },
  {
   "cell_type": "code",
   "execution_count": 3,
   "id": "3b4945a0",
   "metadata": {},
   "outputs": [],
   "source": [
    "test_data = pd.read_csv('test.csv')"
   ]
  },
  {
   "cell_type": "code",
   "execution_count": 4,
   "id": "585e7432",
   "metadata": {},
   "outputs": [],
   "source": [
    "num_cols = list(train_data.select_dtypes(exclude=['object']).columns)\n",
    "cat_cols = list(train_data.select_dtypes(include=['object']).columns)\n",
    "\n",
    "num_cols_test = list(test_data.select_dtypes(exclude=['object']).columns)\n",
    "cat_cols_test = list(test_data.select_dtypes(include=['object']).columns)\n",
    "\n",
    "num_cols_test = [col for col in num_cols_test if col not in ['id']]"
   ]
  },
  {
   "cell_type": "code",
   "execution_count": 7,
   "id": "540c18c7",
   "metadata": {},
   "outputs": [],
   "source": [
    "from sklearn.preprocessing import StandardScaler\n",
    "\n",
    "# Let's say 'target' is the name of your target column\n",
    "target_column = 'target'\n",
    "\n",
    "# Ensure the target column is not in the num_cols list\n",
    "num_cols = [col for col in num_cols if col != target_column]\n",
    "\n",
    "# Now, fit the scaler on the training data without the target column\n",
    "scaler = StandardScaler()\n",
    "train_data[num_cols] = scaler.fit_transform(train_data[num_cols])\n",
    "\n",
    "# Assuming num_cols_test is the same as num_cols, but for safety, let's make sure:\n",
    "num_cols_test = num_cols  # This should have the same features as num_cols, without the target\n",
    "\n",
    "# Now transform the test data\n",
    "test_data[num_cols_test] = scaler.transform(test_data[num_cols_test])"
   ]
  },
  {
   "cell_type": "code",
   "execution_count": 6,
   "id": "36af058b",
   "metadata": {},
   "outputs": [
    {
     "name": "stdout",
     "output_type": "stream",
     "text": [
      "9\n",
      "8\n"
     ]
    }
   ],
   "source": [
    "print(train_data[num_cols].shape[1])  # This should print the number of features in the training data\n",
    "print(test_data[num_cols_test].shape[1])  # This should print the number of features in the test data"
   ]
  },
  {
   "cell_type": "code",
   "execution_count": 8,
   "id": "be5ae50f",
   "metadata": {},
   "outputs": [],
   "source": [
    "from sklearn.preprocessing import LabelEncoder\n",
    "\n",
    "labelencoder = LabelEncoder()\n",
    "object_columns = train_data.select_dtypes(include='object').columns.difference(['NObeyesdad'])\n",
    "\n",
    "for col_name in object_columns:\n",
    "    if train_data[col_name].dtypes=='object':\n",
    "        train_data[col_name]=labelencoder.fit_transform(train_data[col_name])\n",
    "        \n",
    "for col_name in test_data.columns:\n",
    "    if test_data[col_name].dtypes=='object':\n",
    "        test_data[col_name]=labelencoder.fit_transform(test_data[col_name])"
   ]
  },
  {
   "cell_type": "code",
   "execution_count": 39,
   "id": "8951912b",
   "metadata": {},
   "outputs": [],
   "source": [
    "X = train_data.drop(['NObeyesdad', 'id'], axis=1)\n",
    "y = train_data['NObeyesdad']\n",
    "y = labelencoder.fit_transform(y)\n",
    "X_test = test_data.drop([\"id\"],axis=1)"
   ]
  },
  {
   "cell_type": "code",
   "execution_count": 40,
   "id": "1496222f",
   "metadata": {},
   "outputs": [],
   "source": [
    "X_train, X_val, y_train, y_val = train_test_split(X, y, test_size=0.2, random_state=42)"
   ]
  },
  {
   "cell_type": "code",
   "execution_count": 41,
   "id": "e0546cdd",
   "metadata": {},
   "outputs": [],
   "source": [
    "param = {\"objective\": \"multiclass\",          \n",
    "    \"metric\": \"multi_logloss\",          \n",
    "    \"verbosity\": -1,                    \n",
    "    \"boosting_type\": \"gbdt\",            \n",
    "    \"random_state\": 42,       \n",
    "    \"num_class\": 7,                     \n",
    "    'learning_rate': 0.030962211546832760,  \n",
    "    'n_estimators': 500,                \n",
    "    'lambda_l1': 0.009667446568254372,  \n",
    "    'lambda_l2': 0.04018641437301800,   \n",
    "    'max_depth': 10,                    \n",
    "    'colsample_bytree': 0.40977129346872643,  \n",
    "    'subsample': 0.9535797422450176,   \n",
    "    'min_child_samples': 26}\n",
    "\n",
    "model_lgb = lgb.LGBMClassifier(**param,verbose=100)\n",
    "model_lgb.fit(X_train, y_train)\n",
    "pred_lgb = model_lgb.predict(X_val)\n",
    "pred_proba = model_lgb.predict_proba(X_val)"
   ]
  },
  {
   "cell_type": "code",
   "execution_count": 42,
   "id": "d8615246",
   "metadata": {},
   "outputs": [],
   "source": [
    "import optuna\n",
    "\n",
    "def objective(trial):\n",
    "    # Define the thresholds for each class\n",
    "    thresholds = {}\n",
    "    for i in range(num_classes):\n",
    "        thresholds[f'threshold_{i}'] = trial.suggest_uniform(f'threshold_{i}', 0.0, 1.0)\n",
    "\n",
    "    # Apply the thresholds to convert probabilities to predictions\n",
    "    y_pred = apply_thresholds(pred_proba, thresholds)\n",
    "\n",
    "    # Calculate accuracy\n",
    "    accuracy = accuracy_score(y_val, y_pred)\n",
    "    return accuracy  \n",
    "\n",
    "def apply_thresholds(y_proba, thresholds):\n",
    "    # Apply the specified thresholds to convert probabilities to predicted labels\n",
    "    y_pred_labels = np.argmax(y_proba, axis=1)\n",
    "    for i in range(y_proba.shape[1]):\n",
    "        y_pred_labels[y_proba[:, i] > thresholds[f'threshold_{i}']] = i\n",
    "\n",
    "    return y_pred_labels"
   ]
  },
  {
   "cell_type": "code",
   "execution_count": 15,
   "id": "d07a827f",
   "metadata": {},
   "outputs": [
    {
     "name": "stderr",
     "output_type": "stream",
     "text": [
      "[I 2024-02-26 10:28:45,365] A new study created in memory with name: no-name-e9e2e764-90de-4ce9-8be1-a77985ef18df\n",
      "[I 2024-02-26 10:28:45,371] Trial 0 finished with value: 0.8480250481695568 and parameters: {'threshold_0': 0.9832547187343998, 'threshold_1': 0.7229045547337107, 'threshold_2': 0.14180424275646142, 'threshold_3': 0.16553733085213274, 'threshold_4': 0.8124109112371432, 'threshold_5': 0.3490552231412465, 'threshold_6': 0.04381327922670353}. Best is trial 0 with value: 0.8480250481695568.\n",
      "[I 2024-02-26 10:28:45,374] Trial 1 finished with value: 0.8586223506743738 and parameters: {'threshold_0': 0.4979586092133763, 'threshold_1': 0.023031439548229726, 'threshold_2': 0.09696745510568261, 'threshold_3': 0.4887868277306643, 'threshold_4': 0.21952580451592618, 'threshold_5': 0.7102637202800242, 'threshold_6': 0.6423393216267461}. Best is trial 1 with value: 0.8586223506743738.\n",
      "[I 2024-02-26 10:28:45,378] Trial 2 finished with value: 0.8104527938342967 and parameters: {'threshold_0': 0.08453131412466386, 'threshold_1': 0.9605166009988522, 'threshold_2': 0.8489257096784436, 'threshold_3': 0.20233375441814416, 'threshold_4': 0.1713298094112089, 'threshold_5': 0.027727276607682705, 'threshold_6': 0.1004720356160077}. Best is trial 1 with value: 0.8586223506743738.\n",
      "[I 2024-02-26 10:28:45,382] Trial 3 finished with value: 0.8908959537572254 and parameters: {'threshold_0': 0.560117534701373, 'threshold_1': 0.852858724891715, 'threshold_2': 0.6014874512959392, 'threshold_3': 0.13741672325664167, 'threshold_4': 0.5019318364283119, 'threshold_5': 0.13169889650367772, 'threshold_6': 0.30924357420046045}. Best is trial 3 with value: 0.8908959537572254.\n",
      "[I 2024-02-26 10:28:45,386] Trial 4 finished with value: 0.8930635838150289 and parameters: {'threshold_0': 0.547228079307593, 'threshold_1': 0.12061021394441873, 'threshold_2': 0.23268767556538117, 'threshold_3': 0.800343185713864, 'threshold_4': 0.3194916945255848, 'threshold_5': 0.5355790882777527, 'threshold_6': 0.33549156497576416}. Best is trial 4 with value: 0.8930635838150289.\n",
      "[I 2024-02-26 10:28:45,391] Trial 5 finished with value: 0.9000481695568401 and parameters: {'threshold_0': 0.7042365217789159, 'threshold_1': 0.29790025544374665, 'threshold_2': 0.253574751497598, 'threshold_3': 0.7838496949364173, 'threshold_4': 0.9243894043757475, 'threshold_5': 0.32766694325139767, 'threshold_6': 0.5848707800725116}. Best is trial 5 with value: 0.9000481695568401.\n",
      "[I 2024-02-26 10:28:45,395] Trial 6 finished with value: 0.8908959537572254 and parameters: {'threshold_0': 0.935945184962807, 'threshold_1': 0.3423957439774208, 'threshold_2': 0.3331903355748518, 'threshold_3': 0.09283244030263083, 'threshold_4': 0.6347349661230245, 'threshold_5': 0.16996176706429422, 'threshold_6': 0.5796189646331651}. Best is trial 5 with value: 0.9000481695568401.\n",
      "[I 2024-02-26 10:28:45,399] Trial 7 finished with value: 0.8689788053949904 and parameters: {'threshold_0': 0.055576233788351415, 'threshold_1': 0.9569554216667986, 'threshold_2': 0.375555178434577, 'threshold_3': 0.09237342762650369, 'threshold_4': 0.9721385371311165, 'threshold_5': 0.7066656072590363, 'threshold_6': 0.14424070311895254}. Best is trial 5 with value: 0.9000481695568401.\n",
      "[I 2024-02-26 10:28:45,403] Trial 8 finished with value: 0.8995664739884393 and parameters: {'threshold_0': 0.15671174561743506, 'threshold_1': 0.2700161993459985, 'threshold_2': 0.9829920923409474, 'threshold_3': 0.8323529779110752, 'threshold_4': 0.05145836415316429, 'threshold_5': 0.9415133249251123, 'threshold_6': 0.8786526790193452}. Best is trial 5 with value: 0.9000481695568401.\n",
      "[I 2024-02-26 10:28:45,408] Trial 9 finished with value: 0.8841522157996147 and parameters: {'threshold_0': 0.02175583765381439, 'threshold_1': 0.14987148646553294, 'threshold_2': 0.7740851363964163, 'threshold_3': 0.4476460784511819, 'threshold_4': 0.6314576421343596, 'threshold_5': 0.15195244462249535, 'threshold_6': 0.5067571785287337}. Best is trial 5 with value: 0.9000481695568401.\n",
      "[I 2024-02-26 10:28:45,444] Trial 10 finished with value: 0.9079961464354528 and parameters: {'threshold_0': 0.783725813382541, 'threshold_1': 0.5476040041817222, 'threshold_2': 0.4910003086282885, 'threshold_3': 0.9962109805851534, 'threshold_4': 0.9692499342023412, 'threshold_5': 0.3887167967368192, 'threshold_6': 0.983521707437977}. Best is trial 10 with value: 0.9079961464354528.\n",
      "[I 2024-02-26 10:28:45,475] Trial 11 finished with value: 0.9084778420038536 and parameters: {'threshold_0': 0.7458873481203568, 'threshold_1': 0.5572981660864039, 'threshold_2': 0.5349025877430829, 'threshold_3': 0.9745476377718695, 'threshold_4': 0.9789472536120121, 'threshold_5': 0.42067572458555214, 'threshold_6': 0.9825399512595523}. Best is trial 11 with value: 0.9084778420038536.\n",
      "[I 2024-02-26 10:28:45,507] Trial 12 finished with value: 0.9072736030828517 and parameters: {'threshold_0': 0.789798513153766, 'threshold_1': 0.5697562380516897, 'threshold_2': 0.5631891515993321, 'threshold_3': 0.9959621937195053, 'threshold_4': 0.7906874809475413, 'threshold_5': 0.4413054546459284, 'threshold_6': 0.9802626834711134}. Best is trial 11 with value: 0.9084778420038536.\n",
      "[I 2024-02-26 10:28:45,537] Trial 13 finished with value: 0.9077552986512524 and parameters: {'threshold_0': 0.7408677740150698, 'threshold_1': 0.5399910900158174, 'threshold_2': 0.48981200073468234, 'threshold_3': 0.9935494776547018, 'threshold_4': 0.9956420181583877, 'threshold_5': 0.6156485247351868, 'threshold_6': 0.7983349512635385}. Best is trial 11 with value: 0.9084778420038536.\n",
      "[I 2024-02-26 10:28:45,568] Trial 14 finished with value: 0.9051059730250481 and parameters: {'threshold_0': 0.3473617515941331, 'threshold_1': 0.7399789378728958, 'threshold_2': 0.6377645069365522, 'threshold_3': 0.6707151859714913, 'threshold_4': 0.7886447023574925, 'threshold_5': 0.33031860802162427, 'threshold_6': 0.7786770687796645}. Best is trial 11 with value: 0.9084778420038536.\n",
      "[I 2024-02-26 10:28:45,601] Trial 15 finished with value: 0.9065510597302505 and parameters: {'threshold_0': 0.8597018233178007, 'threshold_1': 0.4407087517581426, 'threshold_2': 0.44561982355232493, 'threshold_3': 0.6289250181783563, 'threshold_4': 0.6511122747100296, 'threshold_5': 0.44575883368551783, 'threshold_6': 0.9356553162018191}. Best is trial 11 with value: 0.9084778420038536.\n",
      "[I 2024-02-26 10:28:45,634] Trial 16 finished with value: 0.9077552986512524 and parameters: {'threshold_0': 0.6585947229417191, 'threshold_1': 0.6399713951992323, 'threshold_2': 0.7137793397839273, 'threshold_3': 0.8885887191894286, 'threshold_4': 0.8758056199991471, 'threshold_5': 0.8589528533740002, 'threshold_6': 0.7638320548556166}. Best is trial 11 with value: 0.9084778420038536.\n",
      "[I 2024-02-26 10:28:45,665] Trial 17 finished with value: 0.9010115606936416 and parameters: {'threshold_0': 0.39026704029285686, 'threshold_1': 0.42228996366636673, 'threshold_2': 0.4411548031229352, 'threshold_3': 0.9212512635633212, 'threshold_4': 0.5138224808548824, 'threshold_5': 0.2691916478895237, 'threshold_6': 0.9952473623902168}. Best is trial 11 with value: 0.9084778420038536.\n",
      "[I 2024-02-26 10:28:45,696] Trial 18 finished with value: 0.8610308285163777 and parameters: {'threshold_0': 0.8497639947114922, 'threshold_1': 0.6167685656048094, 'threshold_2': 0.004885375415791704, 'threshold_3': 0.33959723844555806, 'threshold_4': 0.7012533459163244, 'threshold_5': 0.5393166461134895, 'threshold_6': 0.6943945734537897}. Best is trial 11 with value: 0.9084778420038536.\n",
      "[I 2024-02-26 10:28:45,726] Trial 19 finished with value: 0.9077552986512524 and parameters: {'threshold_0': 0.6313827501553109, 'threshold_1': 0.7568324179489869, 'threshold_2': 0.6854777625021404, 'threshold_3': 0.6651947520027464, 'threshold_4': 0.8741745335724003, 'threshold_5': 0.6316736561526741, 'threshold_6': 0.8800610696119011}. Best is trial 11 with value: 0.9084778420038536.\n",
      "[I 2024-02-26 10:28:45,755] Trial 20 finished with value: 0.9082369942196532 and parameters: {'threshold_0': 0.39711834440021565, 'threshold_1': 0.46487997950506427, 'threshold_2': 0.8341064786586926, 'threshold_3': 0.7450002994302223, 'threshold_4': 0.45297092267750105, 'threshold_5': 0.4539027075195582, 'threshold_6': 0.40424607352180775}. Best is trial 11 with value: 0.9084778420038536.\n"
     ]
    },
    {
     "name": "stderr",
     "output_type": "stream",
     "text": [
      "[I 2024-02-26 10:28:45,787] Trial 21 finished with value: 0.9089595375722543 and parameters: {'threshold_0': 0.3432635522456178, 'threshold_1': 0.47304423849625044, 'threshold_2': 0.9253613772186982, 'threshold_3': 0.9012836152843675, 'threshold_4': 0.36390759739881584, 'threshold_5': 0.44756806956556006, 'threshold_6': 0.3904561976340475}. Best is trial 21 with value: 0.9089595375722543.\n",
      "[I 2024-02-26 10:28:45,819] Trial 22 finished with value: 0.9067919075144508 and parameters: {'threshold_0': 0.27853582569224666, 'threshold_1': 0.46857439673168993, 'threshold_2': 0.9768072856663043, 'threshold_3': 0.71001110526328, 'threshold_4': 0.38176791269190163, 'threshold_5': 0.4900013747912717, 'threshold_6': 0.3425010731077164}. Best is trial 21 with value: 0.9089595375722543.\n",
      "[I 2024-02-26 10:28:45,847] Trial 23 finished with value: 0.8995664739884393 and parameters: {'threshold_0': 0.4165063511492821, 'threshold_1': 0.37996375793030135, 'threshold_2': 0.8491301349273784, 'threshold_3': 0.5797811378240483, 'threshold_4': 0.3877624827975641, 'threshold_5': 0.23764982526685785, 'threshold_6': 0.43644761644817065}. Best is trial 21 with value: 0.9089595375722543.\n",
      "[I 2024-02-26 10:28:45,876] Trial 24 finished with value: 0.8961946050096339 and parameters: {'threshold_0': 0.2478952342602304, 'threshold_1': 0.22586301460836467, 'threshold_2': 0.8845807460707826, 'threshold_3': 0.8881879683977223, 'threshold_4': 0.4054264671376137, 'threshold_5': 0.6436477544509673, 'threshold_6': 0.2184438405859146}. Best is trial 21 with value: 0.9089595375722543.\n",
      "[I 2024-02-26 10:28:45,903] Trial 25 finished with value: 0.9087186897880539 and parameters: {'threshold_0': 0.4331853486828095, 'threshold_1': 0.6756673592029596, 'threshold_2': 0.7801998134373513, 'threshold_3': 0.7563832561052154, 'threshold_4': 0.21140864010451543, 'threshold_5': 0.428624163259382, 'threshold_6': 0.4171817132302765}. Best is trial 21 with value: 0.9089595375722543.\n",
      "[I 2024-02-26 10:28:45,934] Trial 26 finished with value: 0.904383429672447 and parameters: {'threshold_0': 0.4899767167657236, 'threshold_1': 0.6905107097045378, 'threshold_2': 0.7543584745704432, 'threshold_3': 0.8760661061169512, 'threshold_4': 0.253490264124581, 'threshold_5': 0.5734873944927736, 'threshold_6': 0.2388055473021583}. Best is trial 21 with value: 0.9089595375722543.\n",
      "[I 2024-02-26 10:28:45,964] Trial 27 finished with value: 0.9024566473988439 and parameters: {'threshold_0': 0.26550293086872634, 'threshold_1': 0.8354708121813699, 'threshold_2': 0.9266242951079722, 'threshold_3': 0.5752168845126915, 'threshold_4': 0.08075180570339216, 'threshold_5': 0.2572810785129668, 'threshold_6': 0.48483008151421125}. Best is trial 21 with value: 0.9089595375722543.\n",
      "[I 2024-02-26 10:28:45,992] Trial 28 finished with value: 0.9041425818882466 and parameters: {'threshold_0': 0.15829200248074954, 'threshold_1': 0.6258896351915023, 'threshold_2': 0.572847238406194, 'threshold_3': 0.9193236018456009, 'threshold_4': 0.13729795516839127, 'threshold_5': 0.7860493112002123, 'threshold_6': 0.24704686668915476}. Best is trial 21 with value: 0.9089595375722543.\n",
      "[I 2024-02-26 10:28:46,020] Trial 29 finished with value: 0.8326107899807321 and parameters: {'threshold_0': 0.982583565887331, 'threshold_1': 0.8279836151611355, 'threshold_2': 0.7831771407775566, 'threshold_3': 0.8214329046065809, 'threshold_4': 0.30046552642492036, 'threshold_5': 0.3879701942868553, 'threshold_6': 0.03233587958622286}. Best is trial 21 with value: 0.9089595375722543.\n",
      "[I 2024-02-26 10:28:46,048] Trial 30 finished with value: 0.8754816955684007 and parameters: {'threshold_0': 0.5780874025449978, 'threshold_1': 0.7040127533351971, 'threshold_2': 0.671855452963122, 'threshold_3': 0.004760866671175368, 'threshold_4': 0.003597956129497537, 'threshold_5': 0.3887180705296608, 'threshold_6': 0.5367971331820786}. Best is trial 21 with value: 0.9089595375722543.\n",
      "[I 2024-02-26 10:28:46,077] Trial 31 finished with value: 0.9072736030828517 and parameters: {'threshold_0': 0.41093848132618654, 'threshold_1': 0.4845574242021644, 'threshold_2': 0.8083191564628313, 'threshold_3': 0.730629082314266, 'threshold_4': 0.5546017760222854, 'threshold_5': 0.4621773042384711, 'threshold_6': 0.4480372783851463}. Best is trial 21 with value: 0.9089595375722543.\n",
      "[I 2024-02-26 10:28:46,106] Trial 32 finished with value: 0.9089595375722543 and parameters: {'threshold_0': 0.47483086026861165, 'threshold_1': 0.49516914130597434, 'threshold_2': 0.9163096744223725, 'threshold_3': 0.735736492319048, 'threshold_4': 0.4392716172175975, 'threshold_5': 0.5087015044000499, 'threshold_6': 0.38503813615185467}. Best is trial 21 with value: 0.9089595375722543.\n",
      "[I 2024-02-26 10:28:46,138] Trial 33 finished with value: 0.9082369942196532 and parameters: {'threshold_0': 0.4904185541858358, 'threshold_1': 0.5578434125395909, 'threshold_2': 0.9128045195098266, 'threshold_3': 0.4425052533506203, 'threshold_4': 0.22492656867018565, 'threshold_5': 0.5244053635226362, 'threshold_6': 0.38989756861059155}. Best is trial 21 with value: 0.9089595375722543.\n",
      "[I 2024-02-26 10:28:46,172] Trial 34 finished with value: 0.9077552986512524 and parameters: {'threshold_0': 0.3246777759342501, 'threshold_1': 0.6605060901735886, 'threshold_2': 0.9939214866161575, 'threshold_3': 0.9417940662487885, 'threshold_4': 0.32172643905671866, 'threshold_5': 0.710561950157484, 'threshold_6': 0.6747308614890863}. Best is trial 21 with value: 0.9089595375722543.\n",
      "[I 2024-02-26 10:28:46,208] Trial 35 finished with value: 0.8742774566473989 and parameters: {'threshold_0': 0.4567876720094068, 'threshold_1': 0.3569098438787297, 'threshold_2': 0.9082618931062121, 'threshold_3': 0.7909465037760135, 'threshold_4': 0.16638898235615351, 'threshold_5': 0.06548528965566824, 'threshold_6': 0.2923178932858848}. Best is trial 21 with value: 0.9089595375722543.\n",
      "[I 2024-02-26 10:28:46,243] Trial 36 finished with value: 0.903179190751445 and parameters: {'threshold_0': 0.559338699614395, 'threshold_1': 0.5210834952592813, 'threshold_2': 0.7375628927855833, 'threshold_3': 0.8454054942909466, 'threshold_4': 0.5657971421166719, 'threshold_5': 0.3080811133601272, 'threshold_6': 0.5943336808674922}. Best is trial 21 with value: 0.9089595375722543.\n",
      "[I 2024-02-26 10:28:46,279] Trial 37 finished with value: 0.9079961464354528 and parameters: {'threshold_0': 0.198566326730929, 'threshold_1': 0.614552343781567, 'threshold_2': 0.8601166703670559, 'threshold_3': 0.32664962900526123, 'threshold_4': 0.46068302114451964, 'threshold_5': 0.5676923400874291, 'threshold_6': 0.3796255521541088}. Best is trial 21 with value: 0.9089595375722543.\n",
      "[I 2024-02-26 10:28:46,316] Trial 38 finished with value: 0.896917148362235 and parameters: {'threshold_0': 0.6334085861946284, 'threshold_1': 0.7863993610845846, 'threshold_2': 0.9387789614223685, 'threshold_3': 0.7751049636853989, 'threshold_4': 0.2637026779547002, 'threshold_5': 0.3889822173821143, 'threshold_6': 0.17369740693484345}. Best is trial 21 with value: 0.9089595375722543.\n",
      "[I 2024-02-26 10:28:46,355] Trial 39 finished with value: 0.8694605009633911 and parameters: {'threshold_0': 0.45940382763370113, 'threshold_1': 0.919299690545514, 'threshold_2': 0.1437828061648207, 'threshold_3': 0.5649322866402862, 'threshold_4': 0.3155543637635412, 'threshold_5': 0.21067617410106407, 'threshold_6': 0.08351143507626752}. Best is trial 21 with value: 0.9089595375722543.\n",
      "[I 2024-02-26 10:28:46,392] Trial 40 finished with value: 0.9046242774566474 and parameters: {'threshold_0': 0.33101331572242704, 'threshold_1': 0.3998810979878594, 'threshold_2': 0.31268972148434954, 'threshold_3': 0.8523010723508878, 'threshold_4': 0.3566765272868826, 'threshold_5': 0.4944857849355955, 'threshold_6': 0.31719680413012324}. Best is trial 21 with value: 0.9089595375722543.\n",
      "[I 2024-02-26 10:28:46,428] Trial 41 finished with value: 0.9082369942196532 and parameters: {'threshold_0': 0.36795620633291937, 'threshold_1': 0.4819525466358105, 'threshold_2': 0.8140855960684553, 'threshold_3': 0.7385614447651995, 'threshold_4': 0.4523668399037209, 'threshold_5': 0.435613793967522, 'threshold_6': 0.4034678233092224}. Best is trial 21 with value: 0.9089595375722543.\n"
     ]
    },
    {
     "name": "stderr",
     "output_type": "stream",
     "text": [
      "[I 2024-02-26 10:28:46,463] Trial 42 finished with value: 0.903179190751445 and parameters: {'threshold_0': 0.5294870193584108, 'threshold_1': 0.30531341985918514, 'threshold_2': 0.8310829526874891, 'threshold_3': 0.9492961389195183, 'threshold_4': 0.44294166601120183, 'threshold_5': 0.36877724678196855, 'threshold_6': 0.4468234030462257}. Best is trial 21 with value: 0.9089595375722543.\n",
      "[I 2024-02-26 10:28:46,502] Trial 43 finished with value: 0.9087186897880539 and parameters: {'threshold_0': 0.43712950265840234, 'threshold_1': 0.5784311493865765, 'threshold_2': 0.6260594705435507, 'threshold_3': 0.758020742516632, 'threshold_4': 0.5078648442348535, 'threshold_5': 0.42341323487904914, 'threshold_6': 0.54012691593726}. Best is trial 21 with value: 0.9089595375722543.\n",
      "[I 2024-02-26 10:28:46,537] Trial 44 finished with value: 0.9082369942196532 and parameters: {'threshold_0': 0.43863279404529737, 'threshold_1': 0.5968101450317648, 'threshold_2': 0.6007133010750284, 'threshold_3': 0.6798977370144939, 'threshold_4': 0.7337021766028174, 'threshold_5': 0.5821649451465222, 'threshold_6': 0.5295018443772258}. Best is trial 21 with value: 0.9089595375722543.\n",
      "[I 2024-02-26 10:28:46,574] Trial 45 finished with value: 0.9029383429672447 and parameters: {'threshold_0': 0.5224079280210918, 'threshold_1': 0.5352680075473658, 'threshold_2': 0.6456013737091947, 'threshold_3': 0.8114863302102425, 'threshold_4': 0.1872805325584601, 'threshold_5': 0.30192174901670016, 'threshold_6': 0.6157785034746088}. Best is trial 21 with value: 0.9089595375722543.\n",
      "[I 2024-02-26 10:28:46,610] Trial 46 finished with value: 0.8754816955684007 and parameters: {'threshold_0': 0.5846864927346558, 'threshold_1': 0.03947451921339795, 'threshold_2': 0.7029721170660173, 'threshold_3': 0.9737583319045663, 'threshold_4': 0.5660333837707352, 'threshold_5': 0.5029410025918698, 'threshold_6': 0.28198344071647874}. Best is trial 21 with value: 0.9089595375722543.\n",
      "[I 2024-02-26 10:28:46,648] Trial 47 finished with value: 0.9075144508670521 and parameters: {'threshold_0': 0.31164118451385936, 'threshold_1': 0.5841673541371334, 'threshold_2': 0.5492291220810359, 'threshold_3': 0.628442257860345, 'threshold_4': 0.11443475042365286, 'threshold_5': 0.41910692522654613, 'threshold_6': 0.3504593142612107}. Best is trial 21 with value: 0.9089595375722543.\n",
      "[I 2024-02-26 10:28:46,684] Trial 48 finished with value: 0.9077552986512524 and parameters: {'threshold_0': 0.7216044666227908, 'threshold_1': 0.6676313817237252, 'threshold_2': 0.5213145774299055, 'threshold_3': 0.7650781062816263, 'threshold_4': 0.5380677724109837, 'threshold_5': 0.6837382472866751, 'threshold_6': 0.4725408195032578}. Best is trial 21 with value: 0.9089595375722543.\n",
      "[I 2024-02-26 10:28:46,718] Trial 49 finished with value: 0.9065510597302505 and parameters: {'threshold_0': 0.2291951621107362, 'threshold_1': 0.5100278837544209, 'threshold_2': 0.41791428406584463, 'threshold_3': 0.5276792546385254, 'threshold_4': 0.2701120624998273, 'threshold_5': 0.349201495504648, 'threshold_6': 0.7386443384767407}. Best is trial 21 with value: 0.9089595375722543.\n",
      "[I 2024-02-26 10:28:46,757] Trial 50 finished with value: 0.9060693641618497 and parameters: {'threshold_0': 0.10968518463745125, 'threshold_1': 0.42573806557408933, 'threshold_2': 0.6191253026951228, 'threshold_3': 0.8983323744410785, 'threshold_4': 0.6296071666637633, 'threshold_5': 0.5396426436871841, 'threshold_6': 0.5616249378528975}. Best is trial 21 with value: 0.9089595375722543.\n",
      "[I 2024-02-26 10:28:46,793] Trial 51 finished with value: 0.9079961464354528 and parameters: {'threshold_0': 0.399687550872004, 'threshold_1': 0.4444476593946428, 'threshold_2': 0.865681500216111, 'threshold_3': 0.700737437201455, 'threshold_4': 0.4965120331298748, 'threshold_5': 0.46036045839065814, 'threshold_6': 0.40192521526919756}. Best is trial 21 with value: 0.9089595375722543.\n",
      "[I 2024-02-26 10:28:46,830] Trial 52 finished with value: 0.9084778420038536 and parameters: {'threshold_0': 0.3685843637037896, 'threshold_1': 0.5731347094422503, 'threshold_2': 0.9566904661438863, 'threshold_3': 0.63407607146245, 'threshold_4': 0.4374534209610442, 'threshold_5': 0.4211185863582084, 'threshold_6': 0.3602884655130406}. Best is trial 21 with value: 0.9089595375722543.\n",
      "[I 2024-02-26 10:28:46,866] Trial 53 finished with value: 0.9087186897880539 and parameters: {'threshold_0': 0.35895680305611666, 'threshold_1': 0.5742673318541877, 'threshold_2': 0.9574293332818606, 'threshold_3': 0.6323829411938559, 'threshold_4': 0.4167933310755637, 'threshold_5': 0.41018776120848843, 'threshold_6': 0.8678324252005352}. Best is trial 21 with value: 0.9089595375722543.\n",
      "[I 2024-02-26 10:28:46,901] Trial 54 finished with value: 0.9048651252408478 and parameters: {'threshold_0': 0.3004444162182578, 'threshold_1': 0.5062161939203316, 'threshold_2': 0.895122951397046, 'threshold_3': 0.8534365096533969, 'threshold_4': 0.5984437700541854, 'threshold_5': 0.3370145412082759, 'threshold_6': 0.8562186940102465}. Best is trial 21 with value: 0.9089595375722543.\n",
      "[I 2024-02-26 10:28:46,941] Trial 55 finished with value: 0.9026974951830443 and parameters: {'threshold_0': 0.5076944923296474, 'threshold_1': 0.7487979694998232, 'threshold_2': 0.7823382674524839, 'threshold_3': 0.6397699961218419, 'threshold_4': 0.35708856587558613, 'threshold_5': 0.2928783223649263, 'threshold_6': 0.9254215651777867}. Best is trial 21 with value: 0.9089595375722543.\n",
      "[I 2024-02-26 10:28:46,975] Trial 56 finished with value: 0.9079961464354528 and parameters: {'threshold_0': 0.4489368563096882, 'threshold_1': 0.6521243765194136, 'threshold_2': 0.9639054161364123, 'threshold_3': 0.8044438685193475, 'threshold_4': 0.4946101643164416, 'threshold_5': 0.5097692159777159, 'threshold_6': 0.9493366107854813}. Best is trial 21 with value: 0.9089595375722543.\n",
      "[I 2024-02-26 10:28:47,014] Trial 57 finished with value: 0.8942678227360308 and parameters: {'threshold_0': 0.6065750428289207, 'threshold_1': 0.7084091228622351, 'threshold_2': 0.9968707512289106, 'threshold_3': 0.7613245054053022, 'threshold_4': 0.7002770001972329, 'threshold_5': 0.19895743981982328, 'threshold_6': 0.8370938678132445}. Best is trial 21 with value: 0.9089595375722543.\n",
      "[I 2024-02-26 10:28:47,048] Trial 58 finished with value: 0.9079961464354528 and parameters: {'threshold_0': 0.36226668440191334, 'threshold_1': 0.5477138395879801, 'threshold_2': 0.4877568312088433, 'threshold_3': 0.7109176246499264, 'threshold_4': 0.22184496129038894, 'threshold_5': 0.4753818037893626, 'threshold_6': 0.9048607150419472}. Best is trial 21 with value: 0.9089595375722543.\n",
      "[I 2024-02-26 10:28:47,083] Trial 59 finished with value: 0.9075144508670521 and parameters: {'threshold_0': 0.4814161834332102, 'threshold_1': 0.6041426780229004, 'threshold_2': 0.7366230184402176, 'threshold_3': 0.47528577551025175, 'threshold_4': 0.898220688767863, 'threshold_5': 0.4111611891032676, 'threshold_6': 0.5033468553817743}. Best is trial 21 with value: 0.9089595375722543.\n",
      "[I 2024-02-26 10:28:47,123] Trial 60 finished with value: 0.9077552986512524 and parameters: {'threshold_0': 0.6716783412616631, 'threshold_1': 0.7945067455872638, 'threshold_2': 0.8757489239774531, 'threshold_3': 0.6016662807668999, 'threshold_4': 0.8146677122564596, 'threshold_5': 0.6088926291582551, 'threshold_6': 0.8161443097177458}. Best is trial 21 with value: 0.9089595375722543.\n",
      "[I 2024-02-26 10:28:47,159] Trial 61 finished with value: 0.9087186897880539 and parameters: {'threshold_0': 0.36745151274616766, 'threshold_1': 0.575462768849504, 'threshold_2': 0.9379532731244332, 'threshold_3': 0.6389781862742403, 'threshold_4': 0.41739637951509506, 'threshold_5': 0.4191955506231308, 'threshold_6': 0.3644188473871865}. Best is trial 21 with value: 0.9089595375722543.\n",
      "[I 2024-02-26 10:28:47,194] Trial 62 finished with value: 0.905587668593449 and parameters: {'threshold_0': 0.4335985258722648, 'threshold_1': 0.4585887887506354, 'threshold_2': 0.9481668918640691, 'threshold_3': 0.5305280031306202, 'threshold_4': 0.33088932727303294, 'threshold_5': 0.3465580121280877, 'threshold_6': 0.4361898006553677}. Best is trial 21 with value: 0.9089595375722543.\n",
      "[I 2024-02-26 10:28:47,229] Trial 63 finished with value: 0.9067919075144508 and parameters: {'threshold_0': 0.8691158677939761, 'threshold_1': 0.6869931694847048, 'threshold_2': 0.8905385058993045, 'threshold_3': 0.6866541505814788, 'threshold_4': 0.406438843827953, 'threshold_5': 0.547002360768671, 'threshold_6': 0.27002437505538346}. Best is trial 21 with value: 0.9089595375722543.\n"
     ]
    },
    {
     "name": "stderr",
     "output_type": "stream",
     "text": [
      "[I 2024-02-26 10:28:47,267] Trial 64 finished with value: 0.9077552986512524 and parameters: {'threshold_0': 0.2724739646669075, 'threshold_1': 0.636145703065249, 'threshold_2': 0.9359061395594783, 'threshold_3': 0.6592466789687336, 'threshold_4': 0.37172702347776393, 'threshold_5': 0.9684703519418176, 'threshold_6': 0.9631128719726949}. Best is trial 21 with value: 0.9089595375722543.\n",
      "[I 2024-02-26 10:28:47,307] Trial 65 finished with value: 0.9039017341040463 and parameters: {'threshold_0': 0.38206181531128625, 'threshold_1': 0.4056743988476445, 'threshold_2': 0.6581686275826073, 'threshold_3': 0.7286067042360744, 'threshold_4': 0.41547561361271024, 'threshold_5': 0.36701462680272867, 'threshold_6': 0.3260047043540171}. Best is trial 21 with value: 0.9089595375722543.\n",
      "[I 2024-02-26 10:28:47,342] Trial 66 finished with value: 0.9082369942196532 and parameters: {'threshold_0': 0.29087346958587346, 'threshold_1': 0.4986861429070706, 'threshold_2': 0.7934682539727442, 'threshold_3': 0.9556274189856058, 'threshold_4': 0.28922780798554615, 'threshold_5': 0.4009691115979057, 'threshold_6': 0.7255142858380281}. Best is trial 21 with value: 0.9089595375722543.\n",
      "[I 2024-02-26 10:28:47,376] Trial 67 finished with value: 0.8983622350674374 and parameters: {'threshold_0': 0.2192502622841493, 'threshold_1': 0.5741216883888491, 'threshold_2': 0.8377894422463269, 'threshold_3': 0.6044375850883845, 'threshold_4': 0.47770803361180053, 'threshold_5': 0.449206871132983, 'threshold_6': 0.17777708464703212}. Best is trial 21 with value: 0.9089595375722543.\n",
      "[I 2024-02-26 10:28:47,415] Trial 68 finished with value: 0.9077552986512524 and parameters: {'threshold_0': 0.7738277249391253, 'threshold_1': 0.543618939834393, 'threshold_2': 0.5917207224870897, 'threshold_3': 0.9093556273866745, 'threshold_4': 0.3441781365052011, 'threshold_5': 0.4941702078088164, 'threshold_6': 0.9974188157885627}. Best is trial 21 with value: 0.9089595375722543.\n",
      "[I 2024-02-26 10:28:47,453] Trial 69 finished with value: 0.9036608863198459 and parameters: {'threshold_0': 0.47257458054051904, 'threshold_1': 0.352547982804242, 'threshold_2': 0.9727683295885479, 'threshold_3': 0.41590875069550237, 'threshold_4': 0.5220913556454372, 'threshold_5': 0.4682009314659875, 'threshold_6': 0.6440871684513256}. Best is trial 21 with value: 0.9089595375722543.\n",
      "[I 2024-02-26 10:28:47,492] Trial 70 finished with value: 0.9048651252408478 and parameters: {'threshold_0': 0.41809013450177246, 'threshold_1': 0.7245464232182807, 'threshold_2': 0.9112373643381235, 'threshold_3': 0.8704082653491182, 'threshold_4': 0.9542544955825957, 'threshold_5': 0.31588454872924654, 'threshold_6': 0.4276371040683968}. Best is trial 21 with value: 0.9089595375722543.\n",
      "[I 2024-02-26 10:28:47,531] Trial 71 finished with value: 0.9082369942196532 and parameters: {'threshold_0': 0.34003540772293617, 'threshold_1': 0.580571173349567, 'threshold_2': 0.9462526379216611, 'threshold_3': 0.6484604681725984, 'threshold_4': 0.4254970746040474, 'threshold_5': 0.4252167038422481, 'threshold_6': 0.36221287951393877}. Best is trial 21 with value: 0.9089595375722543.\n",
      "[I 2024-02-26 10:28:47,573] Trial 72 finished with value: 0.9084778420038536 and parameters: {'threshold_0': 0.3534743923382137, 'threshold_1': 0.5658130437119462, 'threshold_2': 0.967762868975383, 'threshold_3': 0.5365770587097899, 'threshold_4': 0.39040256350200375, 'threshold_5': 0.36923025233766277, 'threshold_6': 0.3714081418473575}. Best is trial 21 with value: 0.9089595375722543.\n",
      "[I 2024-02-26 10:28:47,609] Trial 73 finished with value: 0.9084778420038536 and parameters: {'threshold_0': 0.3761741775405799, 'threshold_1': 0.5212012479228616, 'threshold_2': 0.9242542059476484, 'threshold_3': 0.6046435439447977, 'threshold_4': 0.42739588741090406, 'threshold_5': 0.4208669701827585, 'threshold_6': 0.4744534524048748}. Best is trial 21 with value: 0.9089595375722543.\n",
      "[I 2024-02-26 10:28:47,645] Trial 74 finished with value: 0.9070327552986512 and parameters: {'threshold_0': 0.41604262410818654, 'threshold_1': 0.6257833517506839, 'threshold_2': 0.997099310298983, 'threshold_3': 0.8349982895806556, 'threshold_4': 0.4696317218558045, 'threshold_5': 0.4407449802942113, 'threshold_6': 0.32557379315753565}. Best is trial 21 with value: 0.9089595375722543.\n",
      "[I 2024-02-26 10:28:47,682] Trial 75 finished with value: 0.9007707129094412 and parameters: {'threshold_0': 0.5318059678722713, 'threshold_1': 0.6016776158792113, 'threshold_2': 0.7530694776277745, 'threshold_3': 0.7863545095478508, 'threshold_4': 0.028435545989674404, 'threshold_5': 0.2771598749763336, 'threshold_6': 0.29487072192868746}. Best is trial 21 with value: 0.9089595375722543.\n",
      "[I 2024-02-26 10:28:47,717] Trial 76 finished with value: 0.9079961464354528 and parameters: {'threshold_0': 0.32684235649057714, 'threshold_1': 0.6727289653324995, 'threshold_2': 0.8577211470559283, 'threshold_3': 0.7149846169767288, 'threshold_4': 0.18714995446960395, 'threshold_5': 0.5222232985422841, 'threshold_6': 0.41490234718326396}. Best is trial 21 with value: 0.9089595375722543.\n",
      "[I 2024-02-26 10:28:47,751] Trial 77 finished with value: 0.9026974951830443 and parameters: {'threshold_0': 0.3964905930246603, 'threshold_1': 0.48670098873328843, 'threshold_2': 0.8209640377694166, 'threshold_3': 0.9957075038601078, 'threshold_4': 0.5128669042896052, 'threshold_5': 0.48373730128698905, 'threshold_6': 0.21653570501598693}. Best is trial 21 with value: 0.9089595375722543.\n",
      "[I 2024-02-26 10:28:47,781] Trial 78 finished with value: 0.9075144508670521 and parameters: {'threshold_0': 0.49891131059095983, 'threshold_1': 0.6427742279551404, 'threshold_2': 0.8869423060823456, 'threshold_3': 0.6842508352582445, 'threshold_4': 0.24685012804840056, 'threshold_5': 0.3954070423468508, 'threshold_6': 0.46405224791845867}. Best is trial 21 with value: 0.9089595375722543.\n",
      "[I 2024-02-26 10:28:47,814] Trial 79 finished with value: 0.9075144508670521 and parameters: {'threshold_0': 0.18275155941052884, 'threshold_1': 0.462200447889628, 'threshold_2': 0.5480430927296749, 'threshold_3': 0.7464297291690143, 'threshold_4': 0.5946137592960044, 'threshold_5': 0.5631587509790851, 'threshold_6': 0.5329110350986811}. Best is trial 21 with value: 0.9089595375722543.\n",
      "[I 2024-02-26 10:28:47,845] Trial 80 finished with value: 0.9060693641618497 and parameters: {'threshold_0': 0.8969183731150625, 'threshold_1': 0.5336009041965306, 'threshold_2': 0.4448865352733139, 'threshold_3': 0.6275980328375242, 'threshold_4': 0.28514748334063544, 'threshold_5': 0.3711871209105677, 'threshold_6': 0.2592086772436698}. Best is trial 21 with value: 0.9089595375722543.\n",
      "[I 2024-02-26 10:28:47,878] Trial 81 finished with value: 0.9077552986512524 and parameters: {'threshold_0': 0.3436949831514128, 'threshold_1': 0.5622154940101439, 'threshold_2': 0.9618885536510765, 'threshold_3': 0.5504767874794556, 'threshold_4': 0.3829052354400826, 'threshold_5': 0.3639416833399966, 'threshold_6': 0.36900905031250875}. Best is trial 21 with value: 0.9089595375722543.\n",
      "[I 2024-02-26 10:28:47,910] Trial 82 finished with value: 0.9089595375722543 and parameters: {'threshold_0': 0.3592331504885423, 'threshold_1': 0.5878682424988366, 'threshold_2': 0.9660132112935023, 'threshold_3': 0.5615552217860248, 'threshold_4': 0.3971880250353226, 'threshold_5': 0.43982403290825156, 'threshold_6': 0.38758579690235695}. Best is trial 21 with value: 0.9089595375722543.\n",
      "[I 2024-02-26 10:28:47,944] Trial 83 finished with value: 0.9104046242774566 and parameters: {'threshold_0': 0.4348146122930608, 'threshold_1': 0.596682170682707, 'threshold_2': 0.9282961600842092, 'threshold_3': 0.496202312498077, 'threshold_4': 0.4360979327425641, 'threshold_5': 0.4200727115691642, 'threshold_6': 0.39239844233136467}. Best is trial 83 with value: 0.9104046242774566.\n",
      "[I 2024-02-26 10:28:47,977] Trial 84 finished with value: 0.9099229287090559 and parameters: {'threshold_0': 0.4322018005785252, 'threshold_1': 0.619241462068187, 'threshold_2': 0.9153512218695121, 'threshold_3': 0.5816651940065936, 'threshold_4': 0.4699256023020545, 'threshold_5': 0.5958397205889053, 'threshold_6': 0.39122469097987816}. Best is trial 83 with value: 0.9104046242774566.\n"
     ]
    },
    {
     "name": "stderr",
     "output_type": "stream",
     "text": [
      "[I 2024-02-26 10:28:48,011] Trial 85 finished with value: 0.9094412331406551 and parameters: {'threshold_0': 0.46140844643753576, 'threshold_1': 0.6102347007070603, 'threshold_2': 0.9166991815699468, 'threshold_3': 0.5132409952001119, 'threshold_4': 0.4778697563485248, 'threshold_5': 0.6370230529733687, 'threshold_6': 0.39234764999418487}. Best is trial 83 with value: 0.9104046242774566.\n",
      "[I 2024-02-26 10:28:48,045] Trial 86 finished with value: 0.9084778420038536 and parameters: {'threshold_0': 0.43498060244078146, 'threshold_1': 0.6136817387431568, 'threshold_2': 0.9046982645037985, 'threshold_3': 0.5034260371786228, 'threshold_4': 0.49547424523053274, 'threshold_5': 0.6061992907163749, 'threshold_6': 0.4977203384858596}. Best is trial 83 with value: 0.9104046242774566.\n",
      "[I 2024-02-26 10:28:48,077] Trial 87 finished with value: 0.9092003853564548 and parameters: {'threshold_0': 0.4608913855159716, 'threshold_1': 0.6845915104864284, 'threshold_2': 0.8552106688411686, 'threshold_3': 0.4972807133826248, 'threshold_4': 0.5400585125963359, 'threshold_5': 0.738287015671446, 'threshold_6': 0.39762436477797725}. Best is trial 83 with value: 0.9104046242774566.\n",
      "[I 2024-02-26 10:28:48,111] Trial 88 finished with value: 0.9084778420038536 and parameters: {'threshold_0': 0.5128768969116596, 'threshold_1': 0.7289130147881989, 'threshold_2': 0.8444832464949891, 'threshold_3': 0.39790653620320604, 'threshold_4': 0.5847346602167025, 'threshold_5': 0.7706943883748684, 'threshold_6': 0.3884263326566725}. Best is trial 83 with value: 0.9104046242774566.\n",
      "[I 2024-02-26 10:28:48,146] Trial 89 finished with value: 0.9075144508670521 and parameters: {'threshold_0': 0.467637938811281, 'threshold_1': 0.6821983935222599, 'threshold_2': 0.8705425466381231, 'threshold_3': 0.4866522390602571, 'threshold_4': 0.5392676641114539, 'threshold_5': 0.656323220738323, 'threshold_6': 0.4564266765005562}. Best is trial 83 with value: 0.9104046242774566.\n",
      "[I 2024-02-26 10:28:48,184] Trial 90 finished with value: 0.9082369942196532 and parameters: {'threshold_0': 0.4413518206394365, 'threshold_1': 0.706522487562421, 'threshold_2': 0.8100657788980102, 'threshold_3': 0.34681237679745014, 'threshold_4': 0.4737198847994693, 'threshold_5': 0.7656042806324437, 'threshold_6': 0.4179480412276161}. Best is trial 83 with value: 0.9104046242774566.\n",
      "[I 2024-02-26 10:28:48,230] Trial 91 finished with value: 0.9082369942196532 and parameters: {'threshold_0': 0.4149517886315152, 'threshold_1': 0.6561900972562197, 'threshold_2': 0.9125051022666163, 'threshold_3': 0.5071451627576999, 'threshold_4': 0.5295129158917532, 'threshold_5': 0.7234086584237498, 'threshold_6': 0.3428001057224601}. Best is trial 83 with value: 0.9104046242774566.\n",
      "[I 2024-02-26 10:28:48,276] Trial 92 finished with value: 0.9058285163776493 and parameters: {'threshold_0': 0.5549648609202095, 'threshold_1': 0.7849886561635475, 'threshold_2': 0.921490387512608, 'threshold_3': 0.45796804404909613, 'threshold_4': 0.48121432532713326, 'threshold_5': 0.8364784966074873, 'threshold_6': 0.3094969015306406}. Best is trial 83 with value: 0.9104046242774566.\n",
      "[I 2024-02-26 10:28:48,322] Trial 93 finished with value: 0.9089595375722543 and parameters: {'threshold_0': 0.4800072909956753, 'threshold_1': 0.6248251706047285, 'threshold_2': 0.9755970095367242, 'threshold_3': 0.580727974145777, 'threshold_4': 0.4525266148392848, 'threshold_5': 0.5821542732520925, 'threshold_6': 0.38425962360310334}. Best is trial 83 with value: 0.9104046242774566.\n",
      "[I 2024-02-26 10:28:48,367] Trial 94 finished with value: 0.9094412331406551 and parameters: {'threshold_0': 0.48143759974404826, 'threshold_1': 0.7632977583031688, 'threshold_2': 0.9831151167788491, 'threshold_3': 0.5789233869652335, 'threshold_4': 0.4440902081530468, 'threshold_5': 0.6586509369261894, 'threshold_6': 0.39636854241821734}. Best is trial 83 with value: 0.9104046242774566.\n",
      "[I 2024-02-26 10:28:48,411] Trial 95 finished with value: 0.9094412331406551 and parameters: {'threshold_0': 0.5794462299238409, 'threshold_1': 0.7696676289285109, 'threshold_2': 0.9812494978740758, 'threshold_3': 0.5780894100525827, 'threshold_4': 0.4389371611238895, 'threshold_5': 0.6744912588630132, 'threshold_6': 0.39686748549855155}. Best is trial 83 with value: 0.9104046242774566.\n",
      "[I 2024-02-26 10:28:48,447] Trial 96 finished with value: 0.9075144508670521 and parameters: {'threshold_0': 0.5866532051684148, 'threshold_1': 0.8784735076251068, 'threshold_2': 0.98527469005239, 'threshold_3': 0.5727943053966449, 'threshold_4': 0.359839123467233, 'threshold_5': 0.6773812967696841, 'threshold_6': 0.3422410312298621}. Best is trial 83 with value: 0.9104046242774566.\n",
      "[I 2024-02-26 10:28:48,494] Trial 97 finished with value: 0.9072736030828517 and parameters: {'threshold_0': 0.5372381467274162, 'threshold_1': 0.7513840737790886, 'threshold_2': 0.9990496651832332, 'threshold_3': 0.43052784304468417, 'threshold_4': 0.4510143304008335, 'threshold_5': 0.6309454463891906, 'threshold_6': 0.4397072433946879}. Best is trial 83 with value: 0.9104046242774566.\n",
      "[I 2024-02-26 10:28:48,543] Trial 98 finished with value: 0.9094412331406551 and parameters: {'threshold_0': 0.6151775216839978, 'threshold_1': 0.7700257603897088, 'threshold_2': 0.974790976011963, 'threshold_3': 0.5543673462746332, 'threshold_4': 0.3946376462703107, 'threshold_5': 0.5892217313217634, 'threshold_6': 0.3918854822134859}. Best is trial 83 with value: 0.9104046242774566.\n",
      "[I 2024-02-26 10:28:48,593] Trial 99 finished with value: 0.9082369942196532 and parameters: {'threshold_0': 0.604181101616811, 'threshold_1': 0.9948566845797175, 'threshold_2': 0.9371222583052988, 'threshold_3': 0.3930563741517201, 'threshold_4': 0.39512728800930963, 'threshold_5': 0.6849606319340351, 'threshold_6': 0.40875738277463236}. Best is trial 83 with value: 0.9104046242774566.\n"
     ]
    },
    {
     "name": "stdout",
     "output_type": "stream",
     "text": [
      "Best Thresholds: {'threshold_0': 0.4348146122930608, 'threshold_1': 0.596682170682707, 'threshold_2': 0.9282961600842092, 'threshold_3': 0.496202312498077, 'threshold_4': 0.4360979327425641, 'threshold_5': 0.4200727115691642, 'threshold_6': 0.39239844233136467}\n"
     ]
    }
   ],
   "source": [
    "num_classes = 7\n",
    "pred_proba = pred_proba  # Example: replace with actual y_pred_proba\n",
    "y_val = y_val  # Example: replace with actual y_val\n",
    "\n",
    "study = optuna.create_study(direction='maximize')\n",
    "study.optimize(objective, n_trials=100)\n",
    "\n",
    "# # Get the best thresholds\n",
    "best_thresholds = study.best_params\n",
    "print(\"Best Thresholds:\", best_thresholds)"
   ]
  },
  {
   "cell_type": "code",
   "execution_count": 16,
   "id": "a11854de",
   "metadata": {},
   "outputs": [],
   "source": [
    "threshold1= {'threshold_0': 0.724201213234911, 'threshold_1': 0.6161299800571379, 'threshold_2': 0.29138887902587174, 'threshold_3': 0.3145837593497076, 'threshold_4': 0.8469398340837189, 'threshold_5': 0.6800824438387787, 'threshold_6': 0.35886959729223455}"
   ]
  },
  {
   "cell_type": "code",
   "execution_count": 45,
   "id": "5e978e46",
   "metadata": {},
   "outputs": [],
   "source": [
    "threshold2 = {'threshold_0': 0.4348146122930608, 'threshold_1': 0.596682170682707, 'threshold_2': 0.9282961600842092, 'threshold_3': 0.496202312498077, 'threshold_4': 0.4360979327425641, 'threshold_5': 0.4200727115691642, 'threshold_6': 0.39239844233136467}"
   ]
  },
  {
   "cell_type": "code",
   "execution_count": 46,
   "id": "5e2db2c7",
   "metadata": {},
   "outputs": [],
   "source": [
    "test_label = model_lgb.predict_proba(X_test)\n",
    "test_label = apply_thresholds(test_label, threshold2)"
   ]
  },
  {
   "cell_type": "code",
   "execution_count": 48,
   "id": "3802ff9c",
   "metadata": {},
   "outputs": [],
   "source": [
    "pred = labelencoder.inverse_transform(test_label)\n",
    "submission = pd.DataFrame({'id': test_data.id, 'NObeyesdad': pred})\n",
    "submission.to_csv('submission2.csv', index=False)"
   ]
  },
  {
   "cell_type": "code",
   "execution_count": null,
   "id": "48e3d4e2",
   "metadata": {},
   "outputs": [],
   "source": []
  }
 ],
 "metadata": {
  "kernelspec": {
   "display_name": "Python 3 (ipykernel)",
   "language": "python",
   "name": "python3"
  },
  "language_info": {
   "codemirror_mode": {
    "name": "ipython",
    "version": 3
   },
   "file_extension": ".py",
   "mimetype": "text/x-python",
   "name": "python",
   "nbconvert_exporter": "python",
   "pygments_lexer": "ipython3",
   "version": "3.7.0"
  }
 },
 "nbformat": 4,
 "nbformat_minor": 5
}
